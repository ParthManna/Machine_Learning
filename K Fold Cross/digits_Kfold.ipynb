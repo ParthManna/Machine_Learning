{
 "cells": [
  {
   "cell_type": "code",
   "execution_count": 2,
   "id": "20e17f87-cb64-47ac-b28f-82e0c64f22b9",
   "metadata": {},
   "outputs": [],
   "source": [
    "from sklearn.linear_model import LogisticRegression\n",
    "from sklearn.svm import SVC\n",
    "from sklearn.ensemble import RandomForestClassifier"
   ]
  },
  {
   "cell_type": "code",
   "execution_count": 12,
   "id": "6f15b348-e31a-4c4c-9c56-c87ab62231f4",
   "metadata": {},
   "outputs": [],
   "source": [
    "from sklearn.datasets import load_digits\n",
    "digits = load_digits()"
   ]
  },
  {
   "cell_type": "code",
   "execution_count": 14,
   "id": "5a1cbe3e-e3f3-4fb9-94f4-6f2e5b844207",
   "metadata": {},
   "outputs": [
    {
     "data": {
      "text/plain": [
       "['DESCR', 'data', 'feature_names', 'frame', 'images', 'target', 'target_names']"
      ]
     },
     "execution_count": 14,
     "metadata": {},
     "output_type": "execute_result"
    }
   ],
   "source": [
    "dir(digits)"
   ]
  },
  {
   "cell_type": "code",
   "execution_count": 28,
   "id": "67292490-b956-4f8d-8a8f-0375e2458eb1",
   "metadata": {},
   "outputs": [],
   "source": [
    "from sklearn.model_selection import train_test_split\n",
    "X_train , X_test, y_train, y_test = train_test_split(digits.data, digits.target, test_size=0.2)"
   ]
  },
  {
   "cell_type": "code",
   "execution_count": 30,
   "id": "86fd7cd3-b06c-4ee6-92a1-be93ae3fc817",
   "metadata": {},
   "outputs": [
    {
     "data": {
      "text/plain": [
       "0.9416666666666667"
      ]
     },
     "execution_count": 30,
     "metadata": {},
     "output_type": "execute_result"
    }
   ],
   "source": [
    "le = LogisticRegression(max_iter=200)\n",
    "le.fit(X_train, y_train)\n",
    "le.score(X_test, y_test)"
   ]
  },
  {
   "cell_type": "code",
   "execution_count": 32,
   "id": "0b231480-a5fa-4378-9125-9480694894e7",
   "metadata": {},
   "outputs": [
    {
     "data": {
      "text/plain": [
       "0.975"
      ]
     },
     "execution_count": 32,
     "metadata": {},
     "output_type": "execute_result"
    }
   ],
   "source": [
    "svm = SVC()\n",
    "svm.fit(X_train, y_train)\n",
    "svm.score(X_test, y_test)"
   ]
  },
  {
   "cell_type": "code",
   "execution_count": 34,
   "id": "6b4aa309-21b5-4eb3-a91c-c520e81cb6b4",
   "metadata": {},
   "outputs": [
    {
     "data": {
      "text/plain": [
       "0.9638888888888889"
      ]
     },
     "execution_count": 34,
     "metadata": {},
     "output_type": "execute_result"
    }
   ],
   "source": [
    "rf = RandomForestClassifier()\n",
    "rf.fit(X_train, y_train)\n",
    "rf.score(X_test, y_test)"
   ]
  },
  {
   "cell_type": "code",
   "execution_count": 40,
   "id": "6d9de137-6c16-40a6-82c7-f5d5d6cb370d",
   "metadata": {},
   "outputs": [],
   "source": [
    "from sklearn.model_selection import KFold\n",
    "kf = KFold(n_splits=3)"
   ]
  },
  {
   "cell_type": "code",
   "execution_count": 48,
   "id": "962f1d52-c725-4478-96a5-69445efb63bd",
   "metadata": {},
   "outputs": [
    {
     "name": "stdout",
     "output_type": "stream",
     "text": [
      "[3 4 5 6 7 8] [0 1 2]\n",
      "[0 1 2 6 7 8] [3 4 5]\n",
      "[0 1 2 3 4 5] [6 7 8]\n"
     ]
    }
   ],
   "source": [
    "for train_index, test_index in kf.split([1,2,3,4,5,6,7,8,9]):\n",
    "    print(train_index,test_index)"
   ]
  },
  {
   "cell_type": "code",
   "execution_count": 50,
   "id": "1dcfd71e-217d-4bdb-a984-7ec5548ecef6",
   "metadata": {},
   "outputs": [],
   "source": [
    "def getscore(model, X_train, X_test, y_train, y_test):\n",
    "    model.fit(X_train, y_train)\n",
    "    return model.score(X_test, y_test)"
   ]
  },
  {
   "cell_type": "code",
   "execution_count": 64,
   "id": "ae17751e-0900-44ec-94b5-307dd7fe2ecc",
   "metadata": {},
   "outputs": [
    {
     "data": {
      "text/plain": [
       "0.9416666666666667"
      ]
     },
     "execution_count": 64,
     "metadata": {},
     "output_type": "execute_result"
    }
   ],
   "source": [
    "getscore(LogisticRegression(max_iter=150), X_train, X_test, y_train, y_test)"
   ]
  },
  {
   "cell_type": "code",
   "execution_count": 70,
   "id": "7cd25b95-dcef-45c9-a0f6-b86d69a9d81c",
   "metadata": {},
   "outputs": [],
   "source": [
    "from sklearn.model_selection import StratifiedKFold"
   ]
  },
  {
   "cell_type": "code",
   "execution_count": 94,
   "id": "d4d22c2f-7ec4-4f83-b56f-cb2ddaa6d8cd",
   "metadata": {},
   "outputs": [],
   "source": [
    "fold = StratifiedKFold(n_splits=3)\n",
    "selection_LR = []\n",
    "selection_svm = []\n",
    "selection_rf = []\n",
    "for train_index,test_index in fold.split(digits.data, digits.target):\n",
    "    X_train, X_test, y_train, y_test = digits.data[train_index], digits.data[test_index], digits.target[train_index], digits.target[test_index]\n",
    "\n",
    "    selection_LR.append(getscore(LogisticRegression(max_iter=200), X_train, X_test, y_train, y_test))\n",
    "    selection_svm.append(getscore(SVC(), X_train, X_test, y_train, y_test))\n",
    "    selection_rf.append(getscore(RandomForestClassifier(n_estimators=40), X_train, X_test, y_train, y_test))"
   ]
  },
  {
   "cell_type": "code",
   "execution_count": 95,
   "id": "0a2293e1-ba7b-4998-9d66-22f8aea2bf77",
   "metadata": {},
   "outputs": [
    {
     "data": {
      "text/plain": [
       "[0.9198664440734557, 0.9415692821368948, 0.9165275459098498]"
      ]
     },
     "execution_count": 95,
     "metadata": {},
     "output_type": "execute_result"
    }
   ],
   "source": [
    "selection_LR"
   ]
  },
  {
   "cell_type": "code",
   "execution_count": 98,
   "id": "65027699-4866-429b-8053-e4ba87748d16",
   "metadata": {},
   "outputs": [
    {
     "data": {
      "text/plain": [
       "[0.9649415692821369, 0.9799666110183639, 0.9649415692821369]"
      ]
     },
     "execution_count": 98,
     "metadata": {},
     "output_type": "execute_result"
    }
   ],
   "source": [
    "selection_svm"
   ]
  },
  {
   "cell_type": "code",
   "execution_count": 100,
   "id": "af11d13e-3744-485a-a79c-88f875e77f62",
   "metadata": {},
   "outputs": [
    {
     "data": {
      "text/plain": [
       "[0.9348914858096828, 0.9499165275459098, 0.9298831385642737]"
      ]
     },
     "execution_count": 100,
     "metadata": {},
     "output_type": "execute_result"
    }
   ],
   "source": [
    "selection_rf"
   ]
  },
  {
   "cell_type": "code",
   "execution_count": 102,
   "id": "49312f21-baf6-40f1-84e2-ed0e98c3d14f",
   "metadata": {},
   "outputs": [],
   "source": [
    "from sklearn.model_selection import cross_val_score"
   ]
  },
  {
   "cell_type": "code",
   "execution_count": 110,
   "id": "14faa7b6-8809-45a9-9a11-e7b1fca96a8f",
   "metadata": {},
   "outputs": [
    {
     "data": {
      "text/plain": [
       "array([0.92222222, 0.87222222, 0.94150418, 0.94150418, 0.89693593])"
      ]
     },
     "execution_count": 110,
     "metadata": {},
     "output_type": "execute_result"
    }
   ],
   "source": [
    "cross_val_score(LogisticRegression(max_iter=200), digits.data, digits.target, cv=5)"
   ]
  },
  {
   "cell_type": "code",
   "execution_count": 112,
   "id": "374c968d-3148-4ed1-a7ab-23afd19c4f2c",
   "metadata": {},
   "outputs": [
    {
     "data": {
      "text/plain": [
       "array([0.94444444, 0.98888889, 0.92777778, 0.96666667, 0.98333333,\n",
       "       0.98888889, 0.98888889, 0.99441341, 0.96089385, 0.95530726])"
      ]
     },
     "execution_count": 112,
     "metadata": {},
     "output_type": "execute_result"
    }
   ],
   "source": [
    "cross_val_score(SVC(), digits.data, digits.target, cv=10)"
   ]
  },
  {
   "cell_type": "code",
   "execution_count": 114,
   "id": "b82751f7-a394-48fa-9633-658f9bc15886",
   "metadata": {},
   "outputs": [
    {
     "data": {
      "text/plain": [
       "array([0.93333333, 0.96333333, 0.96      , 0.97324415, 0.97324415,\n",
       "       0.92307692])"
      ]
     },
     "execution_count": 114,
     "metadata": {},
     "output_type": "execute_result"
    }
   ],
   "source": [
    "cross_val_score(RandomForestClassifier(), digits.data, digits.target, cv=6)"
   ]
  },
  {
   "cell_type": "code",
   "execution_count": 118,
   "id": "de015250-0437-4a27-bf2d-00eae71a7e74",
   "metadata": {},
   "outputs": [],
   "source": [
    "import numpy as np"
   ]
  },
  {
   "cell_type": "code",
   "execution_count": 126,
   "id": "a6adf89d-2ce7-48ba-967b-69ad32a2958e",
   "metadata": {},
   "outputs": [
    {
     "data": {
      "text/plain": [
       "0.9343420235878336"
      ]
     },
     "execution_count": 126,
     "metadata": {},
     "output_type": "execute_result"
    }
   ],
   "source": [
    "score1 = cross_val_score(RandomForestClassifier(n_estimators=20), digits.data, digits.target, cv=10)\n",
    "np.average(score1)  "
   ]
  },
  {
   "cell_type": "code",
   "execution_count": 128,
   "id": "a8abb405-f296-44dc-88fe-a610f1d313f5",
   "metadata": {},
   "outputs": [
    {
     "data": {
      "text/plain": [
       "0.9426846679081315"
      ]
     },
     "execution_count": 128,
     "metadata": {},
     "output_type": "execute_result"
    }
   ],
   "source": [
    "score2 = cross_val_score(RandomForestClassifier(n_estimators=40), digits.data, digits.target, cv=10)\n",
    "np.average(score2)  "
   ]
  },
  {
   "cell_type": "code",
   "execution_count": 130,
   "id": "2fabad80-f4cc-418f-90dc-40e88ff05727",
   "metadata": {},
   "outputs": [
    {
     "data": {
      "text/plain": [
       "0.9465704531346988"
      ]
     },
     "execution_count": 130,
     "metadata": {},
     "output_type": "execute_result"
    }
   ],
   "source": [
    "score3 = cross_val_score(RandomForestClassifier(n_estimators=80), digits.data, digits.target, cv=10)\n",
    "np.average(score3)  "
   ]
  },
  {
   "cell_type": "code",
   "execution_count": 132,
   "id": "ee53b95d-dd16-46b6-820f-396c7b68f52d",
   "metadata": {},
   "outputs": [
    {
     "data": {
      "text/plain": [
       "0.9460180012414648"
      ]
     },
     "execution_count": 132,
     "metadata": {},
     "output_type": "execute_result"
    }
   ],
   "source": [
    "score4 = cross_val_score(RandomForestClassifier(n_estimators=50), digits.data, digits.target, cv=10)\n",
    "np.average(score4)  "
   ]
  },
  {
   "cell_type": "code",
   "execution_count": 138,
   "id": "42795074-96e9-4973-8f69-7e0215b32d80",
   "metadata": {},
   "outputs": [
    {
     "data": {
      "text/plain": [
       "0.9493637492240843"
      ]
     },
     "execution_count": 138,
     "metadata": {},
     "output_type": "execute_result"
    }
   ],
   "source": [
    "score5 = cross_val_score(RandomForestClassifier(n_estimators=120), digits.data, digits.target, cv=10)\n",
    "np.average(score5)  "
   ]
  },
  {
   "cell_type": "code",
   "execution_count": null,
   "id": "171f0254-03ae-4724-bf94-da2e9ea83c5b",
   "metadata": {},
   "outputs": [],
   "source": []
  }
 ],
 "metadata": {
  "kernelspec": {
   "display_name": "Python 3 (ipykernel)",
   "language": "python",
   "name": "python3"
  },
  "language_info": {
   "codemirror_mode": {
    "name": "ipython",
    "version": 3
   },
   "file_extension": ".py",
   "mimetype": "text/x-python",
   "name": "python",
   "nbconvert_exporter": "python",
   "pygments_lexer": "ipython3",
   "version": "3.12.4"
  }
 },
 "nbformat": 4,
 "nbformat_minor": 5
}
